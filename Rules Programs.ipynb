{
 "cells": [
  {
   "cell_type": "code",
   "execution_count": 71,
   "id": "6ab8d565",
   "metadata": {},
   "outputs": [],
   "source": [
    "import numpy as np\n",
    "import pandas as pd\n",
    "enemy_shields = 1\n",
    "enemy_dodge = 0.30\n",
    "enemy_damage = 2\n",
    "ally_single_damage_projectiles = 3\n",
    "missle_damage = 2\n",
    "# 3 hull health equals 1 missle\n"
   ]
  },
  {
   "cell_type": "markdown",
   "id": "2ee1384d",
   "metadata": {},
   "source": [
    "### Plan 1: Only Lasers no Missles, Only Target Weapons"
   ]
  },
  {
   "cell_type": "code",
   "execution_count": 72,
   "id": "8943a6ed",
   "metadata": {},
   "outputs": [
    {
     "data": {
      "text/plain": [
       "2.625762159646265"
      ]
     },
     "execution_count": 72,
     "metadata": {},
     "output_type": "execute_result"
    }
   ],
   "source": [
    "total_damages_given = []\n",
    "total_damages_taken = []\n",
    "simulations = 100000\n",
    "for j in range(simulations):\n",
    "    total_damage_given = 0\n",
    "    shields_left = enemy_shields\n",
    "    for i in range(ally_single_damage_projectiles):\n",
    "        is_hit = 1 if np.random.uniform() > enemy_dodge else 0\n",
    "        if is_hit:\n",
    "            shields_left -= 1\n",
    "            if shields_left < 0:\n",
    "                total_damage_given += 1\n",
    "    total_damage_taken = 0\n",
    "    if total_damage_given == 0:\n",
    "        total_damage_taken = enemy_damage\n",
    "    total_damages_taken.append(total_damage_taken)\n",
    "    total_damages_given.append(total_damage_given)\n",
    "total_damages_taken = np.array(total_damages_taken)\n",
    "total_damages_given = np.array(total_damages_given)\n",
    "total_damages_given.sum()/total_damages_taken.sum()\n"
   ]
  },
  {
   "cell_type": "markdown",
   "id": "a85afc4f",
   "metadata": {},
   "source": [
    "### Plan 2: Only Lasers, but if no success, shoot a missle, Only Target Weapons"
   ]
  },
  {
   "cell_type": "code",
   "execution_count": 73,
   "id": "5cdd3fd0",
   "metadata": {},
   "outputs": [
    {
     "data": {
      "text/plain": [
       "1.8432433825614063"
      ]
     },
     "execution_count": 73,
     "metadata": {},
     "output_type": "execute_result"
    }
   ],
   "source": [
    "total_damages_given = []\n",
    "total_damages_taken = []\n",
    "missles_used = 0\n",
    "simulations = 100000\n",
    "for j in range(simulations):\n",
    "    total_damage_given = 0\n",
    "    shields_left = enemy_shields\n",
    "    for i in range(ally_single_damage_projectiles):\n",
    "        is_hit = 1 if np.random.uniform() > enemy_dodge else 0\n",
    "        if is_hit:\n",
    "            shields_left -= 1\n",
    "            if shields_left < 0:\n",
    "                total_damage_given += 1\n",
    "    if total_damage_given == 0:\n",
    "        missles_used += 1\n",
    "        is_hit = 1 if np.random.uniform() > enemy_dodge else 0\n",
    "        if is_hit:\n",
    "            total_damage_given += missle_damage\n",
    "    total_damage_taken = 0\n",
    "    if total_damage_given == 0:\n",
    "        total_damage_taken = enemy_damage\n",
    "    total_damages_taken.append(total_damage_taken)\n",
    "    total_damages_given.append(total_damage_given)\n",
    "total_damages_taken = np.array(total_damages_taken)\n",
    "total_damages_given = np.array(total_damages_given)\n",
    "total_damages_given.sum()/(total_damages_taken.sum() + 3*missles_used)\n"
   ]
  },
  {
   "cell_type": "markdown",
   "id": "98d576c9",
   "metadata": {},
   "source": [
    "### Plan 3: Pilot"
   ]
  },
  {
   "cell_type": "code",
   "execution_count": null,
   "id": "2477a2a6",
   "metadata": {},
   "outputs": [],
   "source": [
    "total_cost = 0\n",
    "successes = []\n",
    "simulations = 100000\n",
    "for j in range(simulations):\n",
    "    success = 0\n",
    "    shields_left = enemy_shields\n",
    "    for i in range(ally_single_damage_projectiles):\n",
    "        is_hit = 1 if np.random.uniform() > enemy_dodge else 0\n",
    "        if is_hit:\n",
    "            shields_left -= 1\n",
    "            if shields_left < 0:\n",
    "                success = 1\n",
    "    total_cost += 2*enemy_damage\n",
    "    if success:\n",
    "        success = 0\n",
    "        for i in range(ally_single_damage_projectiles):\n",
    "            is_hit = 1\n",
    "            if is_hit:\n",
    "                shields_left -= 1:\n",
    "                    if shields_left < 0:\n",
    "                        success = 1\n",
    "    successes.append(success)\n",
    "successes = np.array(successes)\n",
    "success_rate = (successes.sum() / simulations)\n",
    "scrap_cost_per_turn = success_rate*0 + enemy_damage*2*(1-success_rate)\n",
    "np.round(scrap_cost_per_turn, 3)\n"
   ]
  },
  {
   "cell_type": "markdown",
   "id": "ae5a7219",
   "metadata": {},
   "source": [
    "All plans:\n",
    "1. Weapons\n",
    "1. Weapons, missle if miss\n",
    "1. Pilot\n",
    "1. Pilot, missle if miss\n",
    "1. Shields\n",
    "1. Shields, missle if miss\n",
    "1. Pilot, then weapons once hit\n",
    "1. Pilot, then shields once hit\n",
    "1. Shields, then weapons once hit\n",
    "1. Shields, then pilot once hit\n",
    "1. 7 but with a missle if first is a miss\n",
    "1. 8 but with a missle if first is a miss\n",
    "1. 9 but with a missle if first is a miss\n",
    "1. 10 but with a missle if first is a miss"
   ]
  },
  {
   "cell_type": "code",
   "execution_count": 2,
   "id": "061722fe",
   "metadata": {},
   "outputs": [
    {
     "data": {
      "text/plain": [
       "0.7962199403622292"
      ]
     },
     "execution_count": 2,
     "metadata": {},
     "output_type": "execute_result"
    }
   ],
   "source": [
    "np.random.uniform()"
   ]
  },
  {
   "cell_type": "code",
   "execution_count": null,
   "id": "3b6e175e",
   "metadata": {},
   "outputs": [],
   "source": []
  }
 ],
 "metadata": {
  "kernelspec": {
   "display_name": "Python 3 (ipykernel)",
   "language": "python",
   "name": "python3"
  },
  "language_info": {
   "codemirror_mode": {
    "name": "ipython",
    "version": 3
   },
   "file_extension": ".py",
   "mimetype": "text/x-python",
   "name": "python",
   "nbconvert_exporter": "python",
   "pygments_lexer": "ipython3",
   "version": "3.10.11"
  }
 },
 "nbformat": 4,
 "nbformat_minor": 5
}
